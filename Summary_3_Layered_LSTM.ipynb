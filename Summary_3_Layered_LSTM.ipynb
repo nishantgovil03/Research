{
  "nbformat": 4,
  "nbformat_minor": 0,
  "metadata": {
    "kernelspec": {
      "display_name": "Python 3",
      "language": "python",
      "name": "python3"
    },
    "language_info": {
      "codemirror_mode": {
        "name": "ipython",
        "version": 3
      },
      "file_extension": ".py",
      "mimetype": "text/x-python",
      "name": "python",
      "nbconvert_exporter": "python",
      "pygments_lexer": "ipython3",
      "version": "3.6.7"
    },
    "colab": {
      "name": "Research.ipynb",
      "provenance": [],
      "include_colab_link": true
    },
    "accelerator": "GPU"
  },
  "cells": [
    {
      "cell_type": "markdown",
      "metadata": {
        "id": "view-in-github",
        "colab_type": "text"
      },
      "source": [
        "<a href=\"https://colab.research.google.com/github/nishantgovil03/Research/blob/master/Summary_3_Layered_LSTM.ipynb\" target=\"_parent\"><img src=\"https://colab.research.google.com/assets/colab-badge.svg\" alt=\"Open In Colab\"/></a>"
      ]
    },
    {
      "cell_type": "code",
      "metadata": {
        "id": "cIDeo2MWXwi1",
        "colab": {
          "base_uri": "https://localhost:8080/"
        },
        "outputId": "16411267-184d-4963-e429-a695abf0c626"
      },
      "source": [
        "from google.colab import drive\n",
        "drive.mount('/content/drive')"
      ],
      "execution_count": 1,
      "outputs": [
        {
          "output_type": "stream",
          "text": [
            "Mounted at /content/drive\n"
          ],
          "name": "stdout"
        }
      ]
    },
    {
      "cell_type": "code",
      "metadata": {
        "id": "haDJhKJnHxJP",
        "colab": {
          "base_uri": "https://localhost:8080/",
          "height": 36
        },
        "outputId": "dae95a80-750d-4c6d-a5a8-fbde0a78120a"
      },
      "source": [
        "%pwd\n"
      ],
      "execution_count": 2,
      "outputs": [
        {
          "output_type": "execute_result",
          "data": {
            "application/vnd.google.colaboratory.intrinsic+json": {
              "type": "string"
            },
            "text/plain": [
              "'/content'"
            ]
          },
          "metadata": {
            "tags": []
          },
          "execution_count": 2
        }
      ]
    },
    {
      "cell_type": "code",
      "metadata": {
        "id": "6tR2K1srYe8Y",
        "colab": {
          "base_uri": "https://localhost:8080/"
        },
        "outputId": "bc9854a6-1b15-413a-f15e-db9390873761"
      },
      "source": [
        "%ls "
      ],
      "execution_count": 3,
      "outputs": [
        {
          "output_type": "stream",
          "text": [
            "\u001b[0m\u001b[01;34mdrive\u001b[0m/  \u001b[01;34msample_data\u001b[0m/\n"
          ],
          "name": "stdout"
        }
      ]
    },
    {
      "cell_type": "code",
      "metadata": {
        "id": "3V4nMTXqZ26f",
        "colab": {
          "base_uri": "https://localhost:8080/"
        },
        "outputId": "7742e085-fe58-4e40-8ed8-e3c4499d41e8"
      },
      "source": [
        "%cd drive/MyDrive/"
      ],
      "execution_count": 4,
      "outputs": [
        {
          "output_type": "stream",
          "text": [
            "/content/drive/MyDrive\n"
          ],
          "name": "stdout"
        }
      ]
    },
    {
      "cell_type": "code",
      "metadata": {
        "id": "HnQCSjAHE6cq"
      },
      "source": [
        "import pandas as pd"
      ],
      "execution_count": 5,
      "outputs": []
    },
    {
      "cell_type": "code",
      "metadata": {
        "id": "GKFOtTxzaaKy"
      },
      "source": [
        "data = pd.read_csv(\"InputData.csv\")"
      ],
      "execution_count": 6,
      "outputs": []
    },
    {
      "cell_type": "code",
      "metadata": {
        "id": "jepnY7QNar5d",
        "colab": {
          "base_uri": "https://localhost:8080/",
          "height": 399
        },
        "outputId": "c42b172d-e542-4f66-ac13-2ffd0f1fbd2e"
      },
      "source": [
        "data"
      ],
      "execution_count": 7,
      "outputs": [
        {
          "output_type": "execute_result",
          "data": {
            "text/html": [
              "<div>\n",
              "<style scoped>\n",
              "    .dataframe tbody tr th:only-of-type {\n",
              "        vertical-align: middle;\n",
              "    }\n",
              "\n",
              "    .dataframe tbody tr th {\n",
              "        vertical-align: top;\n",
              "    }\n",
              "\n",
              "    .dataframe thead th {\n",
              "        text-align: right;\n",
              "    }\n",
              "</style>\n",
              "<table border=\"1\" class=\"dataframe\">\n",
              "  <thead>\n",
              "    <tr style=\"text-align: right;\">\n",
              "      <th></th>\n",
              "      <th>Unnamed: 0</th>\n",
              "      <th>Articles without stop words</th>\n",
              "      <th>Article with stop words</th>\n",
              "      <th>Summary</th>\n",
              "    </tr>\n",
              "  </thead>\n",
              "  <tbody>\n",
              "    <tr>\n",
              "      <th>0</th>\n",
              "      <td>0</td>\n",
              "      <td>budget set scene electiongordon brown seek put...</td>\n",
              "      <td>budget to set scene for electiongordon brown w...</td>\n",
              "      <td>&lt;START&gt; increase in the stamp duty threshold f...</td>\n",
              "    </tr>\n",
              "    <tr>\n",
              "      <th>1</th>\n",
              "      <td>1</td>\n",
              "      <td>army chiefs regiments decisionmilitary chiefs ...</td>\n",
              "      <td>army chiefs in regiments decisionmilitary chie...</td>\n",
              "      <td>&lt;START&gt; they are very much not for the good an...</td>\n",
              "    </tr>\n",
              "    <tr>\n",
              "      <th>2</th>\n",
              "      <td>2</td>\n",
              "      <td>howard denies split id cardsmichael howard den...</td>\n",
              "      <td>howard denies split over id cardsmichael howar...</td>\n",
              "      <td>&lt;START&gt; michael howard has denied his shadow c...</td>\n",
              "    </tr>\n",
              "    <tr>\n",
              "      <th>3</th>\n",
              "      <td>3</td>\n",
              "      <td>observers monitor uk electionministers invite ...</td>\n",
              "      <td>observers to monitor uk electionministers will...</td>\n",
              "      <td>&lt;START&gt; the report said individual registratio...</td>\n",
              "    </tr>\n",
              "    <tr>\n",
              "      <th>4</th>\n",
              "      <td>4</td>\n",
              "      <td>kilroy names election seat show host robert co...</td>\n",
              "      <td>kilroy names election seat show host robert is...</td>\n",
              "      <td>&lt;START&gt; ukip roger has said he is glad to see ...</td>\n",
              "    </tr>\n",
              "    <tr>\n",
              "      <th>...</th>\n",
              "      <td>...</td>\n",
              "      <td>...</td>\n",
              "      <td>...</td>\n",
              "      <td>...</td>\n",
              "    </tr>\n",
              "    <tr>\n",
              "      <th>4445</th>\n",
              "      <td>4445</td>\n",
              "      <td>india opens skies competitionindia allow domes...</td>\n",
              "      <td>india opens skies to competitionindia will all...</td>\n",
              "      <td>&lt;START&gt; india will allow domestic commercial a...</td>\n",
              "    </tr>\n",
              "    <tr>\n",
              "      <th>4446</th>\n",
              "      <td>4446</td>\n",
              "      <td>yukos bankruptcy us authorities abide us court...</td>\n",
              "      <td>yukos bankruptcy us authorities do not have to...</td>\n",
              "      <td>&lt;START&gt; yukos says a us court was entitled to ...</td>\n",
              "    </tr>\n",
              "    <tr>\n",
              "      <th>4447</th>\n",
              "      <td>4447</td>\n",
              "      <td>survey confirms property slowdowngovernment fi...</td>\n",
              "      <td>survey confirms property slowdowngovernment fi...</td>\n",
              "      <td>&lt;START&gt; house prices were higher on the year i...</td>\n",
              "    </tr>\n",
              "    <tr>\n",
              "      <th>4448</th>\n",
              "      <td>4448</td>\n",
              "      <td>high fuel prices hit ba profitsbritish airways...</td>\n",
              "      <td>high fuel prices hit ba profitsbritish airways...</td>\n",
              "      <td>&lt;START&gt; rod ba chief said the results were res...</td>\n",
              "    </tr>\n",
              "    <tr>\n",
              "      <th>4449</th>\n",
              "      <td>4449</td>\n",
              "      <td>us trade gap hits record gap us exports import...</td>\n",
              "      <td>us trade gap hits record in gap between us exp...</td>\n",
              "      <td>&lt;START&gt; the commerce department said the trade...</td>\n",
              "    </tr>\n",
              "  </tbody>\n",
              "</table>\n",
              "<p>4450 rows × 4 columns</p>\n",
              "</div>"
            ],
            "text/plain": [
              "      Unnamed: 0  ...                                            Summary\n",
              "0              0  ...  <START> increase in the stamp duty threshold f...\n",
              "1              1  ...  <START> they are very much not for the good an...\n",
              "2              2  ...  <START> michael howard has denied his shadow c...\n",
              "3              3  ...  <START> the report said individual registratio...\n",
              "4              4  ...  <START> ukip roger has said he is glad to see ...\n",
              "...          ...  ...                                                ...\n",
              "4445        4445  ...  <START> india will allow domestic commercial a...\n",
              "4446        4446  ...  <START> yukos says a us court was entitled to ...\n",
              "4447        4447  ...  <START> house prices were higher on the year i...\n",
              "4448        4448  ...  <START> rod ba chief said the results were res...\n",
              "4449        4449  ...  <START> the commerce department said the trade...\n",
              "\n",
              "[4450 rows x 4 columns]"
            ]
          },
          "metadata": {
            "tags": []
          },
          "execution_count": 7
        }
      ]
    },
    {
      "cell_type": "code",
      "metadata": {
        "id": "tNVcmXbBW-Y_"
      },
      "source": [
        "from tensorflow.keras import Sequential\r\n",
        "from tensorflow.keras.models import Model\r\n",
        "from tensorflow.keras.layers import Dense,LSTM,Bidirectional,Flatten,Dropout,BatchNormalization,Embedding,Input,TimeDistributed\r\n",
        "from sklearn.model_selection import train_test_split"
      ],
      "execution_count": 8,
      "outputs": []
    },
    {
      "cell_type": "code",
      "metadata": {
        "colab": {
          "base_uri": "https://localhost:8080/"
        },
        "id": "1GonjiRyWzsk",
        "outputId": "9f98d89d-d12a-4608-f664-3ca8d08fa50b"
      },
      "source": [
        "X_train,X_val,Y_train,Y_val=train_test_split(data['Article with stop words'],data['Summary'],test_size=0.3,random_state=29)\r\n",
        "print(len(X_train),len(Y_train))\r\n",
        "print(len(X_val),len(Y_val))"
      ],
      "execution_count": 9,
      "outputs": [
        {
          "output_type": "stream",
          "text": [
            "3115 3115\n",
            "1335 1335\n"
          ],
          "name": "stdout"
        }
      ]
    },
    {
      "cell_type": "code",
      "metadata": {
        "id": "elmXbeJrXLYR"
      },
      "source": [
        "max_art_len=500\r\n",
        "max_sum_len=100"
      ],
      "execution_count": 10,
      "outputs": []
    },
    {
      "cell_type": "code",
      "metadata": {
        "id": "QNNwWq6AXYC4"
      },
      "source": [
        "from tensorflow.keras.preprocessing.text import Tokenizer\r\n",
        "from tensorflow.keras.preprocessing.sequence import pad_sequences"
      ],
      "execution_count": 11,
      "outputs": []
    },
    {
      "cell_type": "code",
      "metadata": {
        "id": "SxjkVAWYXnrz"
      },
      "source": [
        "article_tokenizer=Tokenizer(oov_token='<UNK>')\r\n",
        "article_tokenizer.fit_on_texts(X_train)\r\n",
        "tokenized_X_train=article_tokenizer.texts_to_sequences(X_train)\r\n",
        "tokenized_X_val=article_tokenizer.texts_to_sequences(X_val)\r\n",
        "\r\n",
        "art_vocab_size=len(article_tokenizer.word_index)+1"
      ],
      "execution_count": 12,
      "outputs": []
    },
    {
      "cell_type": "code",
      "metadata": {
        "colab": {
          "base_uri": "https://localhost:8080/"
        },
        "id": "Cf_xWA08X9fI",
        "outputId": "245279d0-1ba7-451b-df94-380efc00c0ea"
      },
      "source": [
        "art_vocab_size"
      ],
      "execution_count": 13,
      "outputs": [
        {
          "output_type": "execute_result",
          "data": {
            "text/plain": [
              "24225"
            ]
          },
          "metadata": {
            "tags": []
          },
          "execution_count": 13
        }
      ]
    },
    {
      "cell_type": "code",
      "metadata": {
        "id": "1x8rIjJHX44x"
      },
      "source": [
        "padded_X_train=pad_sequences(tokenized_X_train,maxlen=max_art_len,padding='post',truncating='post')\r\n",
        "padded_X_val=pad_sequences(tokenized_X_val,maxlen=max_art_len,padding='post',truncating='post')"
      ],
      "execution_count": 14,
      "outputs": []
    },
    {
      "cell_type": "code",
      "metadata": {
        "colab": {
          "base_uri": "https://localhost:8080/"
        },
        "id": "fUGJvzAJYKKG",
        "outputId": "8c5ef1a8-a0be-404f-dce5-def4b85bf6ba"
      },
      "source": [
        "print(padded_X_train.shape,padded_X_val.shape)"
      ],
      "execution_count": 15,
      "outputs": [
        {
          "output_type": "stream",
          "text": [
            "(3115, 500) (1335, 500)\n"
          ],
          "name": "stdout"
        }
      ]
    },
    {
      "cell_type": "code",
      "metadata": {
        "id": "bLFLsisGYUv_"
      },
      "source": [
        "summary_tokenizer=Tokenizer(oov_token='<UNK>')\r\n",
        "summary_tokenizer.fit_on_texts(Y_train)\r\n",
        "tokenized_Y_train=summary_tokenizer.texts_to_sequences(Y_train)\r\n",
        "tokenized_Y_val=summary_tokenizer.texts_to_sequences(Y_val)\r\n",
        "\r\n",
        "sum_vocab_size=len(summary_tokenizer.word_index)+1"
      ],
      "execution_count": 16,
      "outputs": []
    },
    {
      "cell_type": "code",
      "metadata": {
        "colab": {
          "base_uri": "https://localhost:8080/"
        },
        "id": "pSI8sMLvYpMH",
        "outputId": "c28351e8-3202-447b-eb39-3bbb51da331b"
      },
      "source": [
        "sum_vocab_size"
      ],
      "execution_count": 17,
      "outputs": [
        {
          "output_type": "execute_result",
          "data": {
            "text/plain": [
              "15775"
            ]
          },
          "metadata": {
            "tags": []
          },
          "execution_count": 17
        }
      ]
    },
    {
      "cell_type": "code",
      "metadata": {
        "id": "dXyt71hHYg89"
      },
      "source": [
        "padded_Y_train=pad_sequences(tokenized_Y_train,maxlen=max_sum_len,padding='post',truncating='post')\r\n",
        "padded_Y_val=pad_sequences(tokenized_Y_val,maxlen=max_sum_len,padding='post',truncating='post')"
      ],
      "execution_count": 18,
      "outputs": []
    },
    {
      "cell_type": "code",
      "metadata": {
        "colab": {
          "base_uri": "https://localhost:8080/"
        },
        "id": "E_3tQHd1YxyQ",
        "outputId": "fe271c6f-a621-4c56-f2d3-0cd263963473"
      },
      "source": [
        "print(padded_Y_train.shape,padded_Y_val.shape)"
      ],
      "execution_count": 19,
      "outputs": [
        {
          "output_type": "stream",
          "text": [
            "(3115, 100) (1335, 100)\n"
          ],
          "name": "stdout"
        }
      ]
    },
    {
      "cell_type": "code",
      "metadata": {
        "id": "3tbovva5m-9r"
      },
      "source": [
        "embedding_size = 100\r\n",
        "n_units = 300"
      ],
      "execution_count": 20,
      "outputs": []
    },
    {
      "cell_type": "code",
      "metadata": {
        "id": "RYjnySSatiwD"
      },
      "source": [
        "#model = models.Sequential()\r\n",
        "#model.add(layers.Dense(16, activation='relu',input_shape=(max_art_len,)))\r\n",
        "#model.add(layers.Dense(16, activation='relu'))\r\n",
        "#model.add(layers.Dense(16, activation='relu'))"
      ],
      "execution_count": 21,
      "outputs": []
    },
    {
      "cell_type": "code",
      "metadata": {
        "id": "WaS6ta1MvUKf",
        "outputId": "f7d6a07c-2492-480c-b3e8-96a16e298e35",
        "colab": {
          "base_uri": "https://localhost:8080/"
        }
      },
      "source": [
        "encoder_inputs=Input(shape=(max_art_len,))\r\n",
        "encoder_emb=Embedding(art_vocab_size,embedding_size,trainable=True,name='Encoder_Embedding_layer')(encoder_inputs)\r\n",
        "encoder_lstm1=LSTM(n_units,return_sequences=True,return_state=True,name='Encoder_LSTM1')\r\n",
        "enclstm1_outputs,enclstm1_h,enclstm1_c=encoder_lstm1(encoder_emb)\r\n",
        "\r\n",
        "encoder_lstm2=LSTM(n_units,return_sequences=True,return_state=True,name='Encoder_LSTM2')\r\n",
        "enclstm2_outputs,enclstm2_h,enclstm2_c=encoder_lstm2(enclstm1_outputs)\r\n",
        "\r\n",
        "encoder_lstm3=LSTM(n_units,return_sequences=True,return_state=True,name='Encoder_LSTM3')\r\n",
        "enclstm3_outputs,enclstm3_h,enclstm3_c=encoder_lstm3(enclstm2_outputs)\r\n",
        "\r\n",
        "decoder_inputs=Input(shape=(None,))\r\n",
        "decoder_em=Embedding(sum_vocab_size,embedding_size,trainable=True,name='Decoder_Embedding_layer')\r\n",
        "decoder_emb=decoder_em(decoder_inputs)\r\n",
        "\r\n",
        "decoder_lstm1=LSTM(n_units,return_sequences=True,return_state=True,name='Decoder_LSTM1')\r\n",
        "declstm1_output,declstm1_h,declstm1_c=decoder_lstm1(decoder_emb,initial_state=[enclstm3_h,enclstm3_c])\r\n",
        "\r\n",
        "output_layer=TimeDistributed(Dense(sum_vocab_size,activation='softmax',name='softmax'))\r\n",
        "output=output_layer(declstm1_output)\r\n",
        "\r\n",
        "model=Model([encoder_inputs,decoder_inputs],output)\r\n",
        "\r\n",
        "model.summary()"
      ],
      "execution_count": 35,
      "outputs": [
        {
          "output_type": "stream",
          "text": [
            "Model: \"model_1\"\n",
            "__________________________________________________________________________________________________\n",
            "Layer (type)                    Output Shape         Param #     Connected to                     \n",
            "==================================================================================================\n",
            "input_5 (InputLayer)            [(None, 500)]        0                                            \n",
            "__________________________________________________________________________________________________\n",
            "Encoder_Embedding_layer (Embedd (None, 500, 100)     2422500     input_5[0][0]                    \n",
            "__________________________________________________________________________________________________\n",
            "Encoder_LSTM1 (LSTM)            [(None, 500, 300), ( 481200      Encoder_Embedding_layer[0][0]    \n",
            "__________________________________________________________________________________________________\n",
            "input_6 (InputLayer)            [(None, None)]       0                                            \n",
            "__________________________________________________________________________________________________\n",
            "Encoder_LSTM2 (LSTM)            [(None, 500, 300), ( 721200      Encoder_LSTM1[0][0]              \n",
            "__________________________________________________________________________________________________\n",
            "Decoder_Embedding_layer (Embedd (None, None, 100)    1577500     input_6[0][0]                    \n",
            "__________________________________________________________________________________________________\n",
            "Encoder_LSTM3 (LSTM)            [(None, 500, 300), ( 721200      Encoder_LSTM2[0][0]              \n",
            "__________________________________________________________________________________________________\n",
            "Decoder_LSTM1 (LSTM)            [(None, None, 300),  481200      Decoder_Embedding_layer[0][0]    \n",
            "                                                                 Encoder_LSTM3[0][1]              \n",
            "                                                                 Encoder_LSTM3[0][2]              \n",
            "__________________________________________________________________________________________________\n",
            "time_distributed_1 (TimeDistrib (None, None, 15775)  4748275     Decoder_LSTM1[0][0]              \n",
            "==================================================================================================\n",
            "Total params: 11,153,075\n",
            "Trainable params: 11,153,075\n",
            "Non-trainable params: 0\n",
            "__________________________________________________________________________________________________\n"
          ],
          "name": "stdout"
        }
      ]
    },
    {
      "cell_type": "code",
      "metadata": {
        "colab": {
          "base_uri": "https://localhost:8080/",
          "height": 239
        },
        "id": "fo_SAK2DaXRZ",
        "outputId": "9e76e542-d115-4f36-9b78-ec4983311a37"
      },
      "source": [
        "#encoder_inputs=Input(shape=(max_art_len,))\r\n",
        "#encoder_emb=Embedding(art_vocab_size,embedding_size,trainable=True,name='Encoder_Embedding_layer')(encoder_inputs)\r\n",
        "#encoder_lstm1=Bidirectional(LSTM(n_units,return_sequences=True,return_state=True,name='Encoder_LSTM1'))\r\n",
        "#enclstm1_outputs,enclstm1_h,enclstm1_c=encoder_lstm1(encoder_emb)\r\n",
        "\r\n",
        "#encoder_lstm2=Bidirectional(n_units,return_sequences=True,return_state=True,name='Encoder_LSTM2')\r\n",
        "#enclstm2_outputs,enclstm2_h,enclstm2_c=encoder_lstm2(enclstm1_outputs)\r\n",
        "\r\n",
        "#encoder_lstm3=Bidirectional(n_units,return_sequences=True,return_state=True,name='Encoder_LSTM3')\r\n",
        "#enclstm3_outputs,enclstm3_h,enclstm3_c=encoder_lstm3(enclstm2_outputs)\r\n",
        "\r\n",
        "#decoder_inputs=Input(shape=(None,))\r\n",
        "#decoder_em=Embedding(sum_vocab_size,embedding_size,trainable=True,name='Decoder_Embedding_layer')\r\n",
        "#decoder_emb=decoder_em(decoder_inputs)\r\n",
        "\r\n",
        "#decoder_lstm1=LSTM(n_units,return_sequences=True,return_state=True,name='Decoder_LSTM1')\r\n",
        "#declstm1_output,declstm1_h,declstm1_c=decoder_lstm1(decoder_emb,initial_state=[enclstm3_h,enclstm3_c])\r\n",
        "\r\n",
        "#output_layer=TimeDistributed(Dense(sum_vocab_size,activation='softmax',name='softmax'))\r\n",
        "#output=output_layer(declstm1_output)\r\n",
        "\r\n",
        "#model=Model([encoder_inputs,decoder_inputs],output)\r\n",
        "\r\n",
        "#model.summary()"
      ],
      "execution_count": 33,
      "outputs": [
        {
          "output_type": "error",
          "ename": "ValueError",
          "evalue": "ignored",
          "traceback": [
            "\u001b[0;31m---------------------------------------------------------------------------\u001b[0m",
            "\u001b[0;31mValueError\u001b[0m                                Traceback (most recent call last)",
            "\u001b[0;32m<ipython-input-33-f0bcb1858c2b>\u001b[0m in \u001b[0;36m<module>\u001b[0;34m()\u001b[0m\n\u001b[1;32m      2\u001b[0m \u001b[0mencoder_emb\u001b[0m\u001b[0;34m=\u001b[0m\u001b[0mEmbedding\u001b[0m\u001b[0;34m(\u001b[0m\u001b[0mart_vocab_size\u001b[0m\u001b[0;34m,\u001b[0m\u001b[0membedding_size\u001b[0m\u001b[0;34m,\u001b[0m\u001b[0mtrainable\u001b[0m\u001b[0;34m=\u001b[0m\u001b[0;32mTrue\u001b[0m\u001b[0;34m,\u001b[0m\u001b[0mname\u001b[0m\u001b[0;34m=\u001b[0m\u001b[0;34m'Encoder_Embedding_layer'\u001b[0m\u001b[0;34m)\u001b[0m\u001b[0;34m(\u001b[0m\u001b[0mencoder_inputs\u001b[0m\u001b[0;34m)\u001b[0m\u001b[0;34m\u001b[0m\u001b[0;34m\u001b[0m\u001b[0m\n\u001b[1;32m      3\u001b[0m \u001b[0mencoder_lstm1\u001b[0m\u001b[0;34m=\u001b[0m\u001b[0mBidirectional\u001b[0m\u001b[0;34m(\u001b[0m\u001b[0mLSTM\u001b[0m\u001b[0;34m(\u001b[0m\u001b[0mn_units\u001b[0m\u001b[0;34m,\u001b[0m\u001b[0mreturn_sequences\u001b[0m\u001b[0;34m=\u001b[0m\u001b[0;32mTrue\u001b[0m\u001b[0;34m,\u001b[0m\u001b[0mreturn_state\u001b[0m\u001b[0;34m=\u001b[0m\u001b[0;32mTrue\u001b[0m\u001b[0;34m,\u001b[0m\u001b[0mname\u001b[0m\u001b[0;34m=\u001b[0m\u001b[0;34m'Encoder_LSTM1'\u001b[0m\u001b[0;34m)\u001b[0m\u001b[0;34m)\u001b[0m\u001b[0;34m\u001b[0m\u001b[0;34m\u001b[0m\u001b[0m\n\u001b[0;32m----> 4\u001b[0;31m \u001b[0menclstm1_outputs\u001b[0m\u001b[0;34m,\u001b[0m\u001b[0menclstm1_h\u001b[0m\u001b[0;34m,\u001b[0m\u001b[0menclstm1_c\u001b[0m\u001b[0;34m=\u001b[0m\u001b[0mencoder_lstm1\u001b[0m\u001b[0;34m(\u001b[0m\u001b[0mencoder_emb\u001b[0m\u001b[0;34m)\u001b[0m\u001b[0;34m\u001b[0m\u001b[0;34m\u001b[0m\u001b[0m\n\u001b[0m\u001b[1;32m      5\u001b[0m \u001b[0;34m\u001b[0m\u001b[0m\n\u001b[1;32m      6\u001b[0m \u001b[0mencoder_lstm2\u001b[0m\u001b[0;34m=\u001b[0m\u001b[0mBidirectional\u001b[0m\u001b[0;34m(\u001b[0m\u001b[0mn_units\u001b[0m\u001b[0;34m,\u001b[0m\u001b[0mreturn_sequences\u001b[0m\u001b[0;34m=\u001b[0m\u001b[0;32mTrue\u001b[0m\u001b[0;34m,\u001b[0m\u001b[0mreturn_state\u001b[0m\u001b[0;34m=\u001b[0m\u001b[0;32mTrue\u001b[0m\u001b[0;34m,\u001b[0m\u001b[0mname\u001b[0m\u001b[0;34m=\u001b[0m\u001b[0;34m'Encoder_LSTM2'\u001b[0m\u001b[0;34m)\u001b[0m\u001b[0;34m\u001b[0m\u001b[0;34m\u001b[0m\u001b[0m\n",
            "\u001b[0;31mValueError\u001b[0m: too many values to unpack (expected 3)"
          ]
        }
      ]
    },
    {
      "cell_type": "code",
      "metadata": {
        "id": "-_bHdiG4pAip"
      },
      "source": [
        "model.compile(optimizer='Adam',loss='sparse_categorical_crossentropy',metrics=['accuracy'])"
      ],
      "execution_count": 36,
      "outputs": []
    },
    {
      "cell_type": "code",
      "metadata": {
        "colab": {
          "base_uri": "https://localhost:8080/"
        },
        "id": "T-vJnmvspPzL",
        "outputId": "adef1fba-285d-4234-aade-513453befe38"
      },
      "source": [
        "history = model.fit([padded_X_train,padded_Y_train[:,:-1]],padded_Y_train[:,1:],\r\n",
        "          epochs=30,\r\n",
        "          validation_data=([padded_X_val,padded_Y_val[:,:-1]],padded_Y_val[:,1:]),\r\n",
        "          batch_size=64)"
      ],
      "execution_count": 37,
      "outputs": [
        {
          "output_type": "stream",
          "text": [
            "Epoch 1/30\n",
            "49/49 [==============================] - 29s 492ms/step - loss: 8.4326 - accuracy: 0.0833 - val_loss: 6.6862 - val_accuracy: 0.0914\n",
            "Epoch 2/30\n",
            "49/49 [==============================] - 23s 476ms/step - loss: 6.6651 - accuracy: 0.0852 - val_loss: 6.6485 - val_accuracy: 0.0914\n",
            "Epoch 3/30\n",
            "49/49 [==============================] - 24s 487ms/step - loss: 6.6209 - accuracy: 0.0857 - val_loss: 6.6123 - val_accuracy: 0.1330\n",
            "Epoch 4/30\n",
            "49/49 [==============================] - 24s 481ms/step - loss: 6.5459 - accuracy: 0.1178 - val_loss: 6.3313 - val_accuracy: 0.1518\n",
            "Epoch 5/30\n",
            "49/49 [==============================] - 23s 479ms/step - loss: 6.3087 - accuracy: 0.1435 - val_loss: 6.1961 - val_accuracy: 0.1572\n",
            "Epoch 6/30\n",
            "49/49 [==============================] - 24s 482ms/step - loss: 6.1751 - accuracy: 0.1549 - val_loss: 6.1237 - val_accuracy: 0.1669\n",
            "Epoch 7/30\n",
            "49/49 [==============================] - 24s 484ms/step - loss: 6.1003 - accuracy: 0.1592 - val_loss: 6.0723 - val_accuracy: 0.1684\n",
            "Epoch 8/30\n",
            "49/49 [==============================] - 24s 483ms/step - loss: 6.0444 - accuracy: 0.1626 - val_loss: 6.0109 - val_accuracy: 0.1761\n",
            "Epoch 9/30\n",
            "49/49 [==============================] - 24s 483ms/step - loss: 5.9772 - accuracy: 0.1667 - val_loss: 5.9499 - val_accuracy: 0.1800\n",
            "Epoch 10/30\n",
            "49/49 [==============================] - 24s 485ms/step - loss: 5.8883 - accuracy: 0.1757 - val_loss: 5.9129 - val_accuracy: 0.1875\n",
            "Epoch 11/30\n",
            "49/49 [==============================] - 24s 484ms/step - loss: 5.8317 - accuracy: 0.1822 - val_loss: 5.8397 - val_accuracy: 0.1920\n",
            "Epoch 12/30\n",
            "49/49 [==============================] - 24s 485ms/step - loss: 5.7572 - accuracy: 0.1867 - val_loss: 5.7890 - val_accuracy: 0.1952\n",
            "Epoch 13/30\n",
            "49/49 [==============================] - 24s 487ms/step - loss: 5.6738 - accuracy: 0.1924 - val_loss: 5.7348 - val_accuracy: 0.1994\n",
            "Epoch 14/30\n",
            "49/49 [==============================] - 24s 484ms/step - loss: 5.5992 - accuracy: 0.1996 - val_loss: 5.6824 - val_accuracy: 0.2035\n",
            "Epoch 15/30\n",
            "49/49 [==============================] - 24s 485ms/step - loss: 5.5311 - accuracy: 0.2034 - val_loss: 5.6353 - val_accuracy: 0.2066\n",
            "Epoch 16/30\n",
            "49/49 [==============================] - 24s 486ms/step - loss: 5.4786 - accuracy: 0.2066 - val_loss: 5.5919 - val_accuracy: 0.2081\n",
            "Epoch 17/30\n",
            "49/49 [==============================] - 24s 488ms/step - loss: 5.4202 - accuracy: 0.2093 - val_loss: 5.5515 - val_accuracy: 0.2121\n",
            "Epoch 18/30\n",
            "49/49 [==============================] - 24s 487ms/step - loss: 5.3409 - accuracy: 0.2164 - val_loss: 5.5138 - val_accuracy: 0.2151\n",
            "Epoch 19/30\n",
            "49/49 [==============================] - 24s 487ms/step - loss: 5.3244 - accuracy: 0.2160 - val_loss: 5.4777 - val_accuracy: 0.2183\n",
            "Epoch 20/30\n",
            "49/49 [==============================] - 24s 486ms/step - loss: 5.2860 - accuracy: 0.2180 - val_loss: 5.4386 - val_accuracy: 0.2216\n",
            "Epoch 21/30\n",
            "49/49 [==============================] - 24s 487ms/step - loss: 5.2106 - accuracy: 0.2247 - val_loss: 5.4024 - val_accuracy: 0.2247\n",
            "Epoch 22/30\n",
            "49/49 [==============================] - 24s 485ms/step - loss: 5.1476 - accuracy: 0.2305 - val_loss: 5.3682 - val_accuracy: 0.2275\n",
            "Epoch 23/30\n",
            "49/49 [==============================] - 24s 487ms/step - loss: 5.1064 - accuracy: 0.2322 - val_loss: 5.3338 - val_accuracy: 0.2300\n",
            "Epoch 24/30\n",
            "49/49 [==============================] - 24s 485ms/step - loss: 5.0467 - accuracy: 0.2362 - val_loss: 5.3017 - val_accuracy: 0.2316\n",
            "Epoch 25/30\n",
            "49/49 [==============================] - 24s 487ms/step - loss: 4.9872 - accuracy: 0.2388 - val_loss: 5.2716 - val_accuracy: 0.2333\n",
            "Epoch 26/30\n",
            "49/49 [==============================] - 24s 486ms/step - loss: 4.9810 - accuracy: 0.2361 - val_loss: 5.2383 - val_accuracy: 0.2353\n",
            "Epoch 27/30\n",
            "49/49 [==============================] - 24s 487ms/step - loss: 4.9255 - accuracy: 0.2399 - val_loss: 5.2094 - val_accuracy: 0.2368\n",
            "Epoch 28/30\n",
            "49/49 [==============================] - 24s 487ms/step - loss: 4.8647 - accuracy: 0.2442 - val_loss: 5.1795 - val_accuracy: 0.2388\n",
            "Epoch 29/30\n",
            "49/49 [==============================] - 24s 485ms/step - loss: 4.8099 - accuracy: 0.2477 - val_loss: 5.1513 - val_accuracy: 0.2397\n",
            "Epoch 30/30\n",
            "49/49 [==============================] - 24s 487ms/step - loss: 4.7606 - accuracy: 0.2503 - val_loss: 5.1246 - val_accuracy: 0.2413\n"
          ],
          "name": "stdout"
        }
      ]
    },
    {
      "cell_type": "code",
      "metadata": {
        "colab": {
          "base_uri": "https://localhost:8080/"
        },
        "id": "IutGZamot5kf",
        "outputId": "b95a3bf4-0bda-41f9-83fd-37f7c5ba4c4b"
      },
      "source": [
        "history_dict = history.history\r\n",
        "history_dict.keys()\r\n"
      ],
      "execution_count": 38,
      "outputs": [
        {
          "output_type": "execute_result",
          "data": {
            "text/plain": [
              "dict_keys(['loss', 'accuracy', 'val_loss', 'val_accuracy'])"
            ]
          },
          "metadata": {
            "tags": []
          },
          "execution_count": 38
        }
      ]
    },
    {
      "cell_type": "code",
      "metadata": {
        "id": "qLcoLVuYck5g"
      },
      "source": [
        "import matplotlib.pyplot as plt"
      ],
      "execution_count": 44,
      "outputs": []
    },
    {
      "cell_type": "code",
      "metadata": {
        "id": "7kVKPd94csl_"
      },
      "source": [
        "acc = history.history['accuracy']\r\n",
        "val_acc = history.history['val_accuracy']\r\n",
        "loss = history.history['loss']\r\n",
        "val_loss = history.history['val_loss']"
      ],
      "execution_count": 45,
      "outputs": []
    },
    {
      "cell_type": "code",
      "metadata": {
        "id": "Ht5oWFLFrqNb"
      },
      "source": [
        "epochs = range(1,len(acc)+1)"
      ],
      "execution_count": 46,
      "outputs": []
    },
    {
      "cell_type": "code",
      "metadata": {
        "id": "55_8ZctidDph",
        "colab": {
          "base_uri": "https://localhost:8080/",
          "height": 316
        },
        "outputId": "bccde097-12e1-434c-bde5-da2bec5e2f0e"
      },
      "source": [
        "plt.plot(epochs , acc , 'bo' ,  label = 'Training acc')\r\n",
        "plt.plot(epochs , val_acc , 'b' ,  label = 'Validation acc')\r\n",
        "plt.title('Training and Validation accuracy')\r\n",
        "plt.legend()\r\n",
        "plt.figure()\r\n"
      ],
      "execution_count": 47,
      "outputs": [
        {
          "output_type": "execute_result",
          "data": {
            "text/plain": [
              "<Figure size 432x288 with 0 Axes>"
            ]
          },
          "metadata": {
            "tags": []
          },
          "execution_count": 47
        },
        {
          "output_type": "display_data",
          "data": {
            "image/png": "[encoded data removed]",
            "text/plain": [
              "<Figure size 432x288 with 1 Axes>"
            ]
          },
          "metadata": {
            "tags": [],
            "needs_background": "light"
          }
        },
        {
          "output_type": "display_data",
          "data": {
            "text/plain": [
              "<Figure size 432x288 with 0 Axes>"
            ]
          },
          "metadata": {
            "tags": []
          }
        }
      ]
    },
    {
      "cell_type": "code",
      "metadata": {
        "id": "TL9-XXFSdsUT",
        "colab": {
          "base_uri": "https://localhost:8080/",
          "height": 281
        },
        "outputId": "78541e8c-54fa-4b31-9c8e-eb6b058d20f5"
      },
      "source": [
        "plt.plot(epochs , loss , 'bo' ,  label = 'Training loss')\r\n",
        "plt.plot(epochs , val_loss , 'b' ,  label = 'Validation loss')\r\n",
        "plt.title('Training and Validation loss')\r\n",
        "plt.legend()\r\n",
        "plt.show()\r\n"
      ],
      "execution_count": 48,
      "outputs": [
        {
          "output_type": "display_data",
          "data": {
            "image/png": "[encoded data removed]",
            "text/plain": [
              "<Figure size 432x288 with 1 Axes>"
            ]
          },
          "metadata": {
            "tags": [],
            "needs_background": "light"
          }
        }
      ]
    }
  ]
}