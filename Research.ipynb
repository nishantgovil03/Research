{
  "nbformat": 4,
  "nbformat_minor": 0,
  "metadata": {
    "kernelspec": {
      "display_name": "Python 3",
      "language": "python",
      "name": "python3"
    },
    "language_info": {
      "codemirror_mode": {
        "name": "ipython",
        "version": 3
      },
      "file_extension": ".py",
      "mimetype": "text/x-python",
      "name": "python",
      "nbconvert_exporter": "python",
      "pygments_lexer": "ipython3",
      "version": "3.6.7"
    },
    "colab": {
      "name": "Research.ipynb",
      "provenance": [],
      "include_colab_link": true
    }
  },
  "cells": [
    {
      "cell_type": "markdown",
      "metadata": {
        "id": "view-in-github",
        "colab_type": "text"
      },
      "source": [
        "<a href=\"https://colab.research.google.com/github/nishantgovil03/Research/blob/master/Research.ipynb\" target=\"_parent\"><img src=\"https://colab.research.google.com/assets/colab-badge.svg\" alt=\"Open In Colab\"/></a>"
      ]
    },
    {
      "cell_type": "code",
      "metadata": {
        "id": "cIDeo2MWXwi1",
        "colab": {
          "base_uri": "https://localhost:8080/"
        },
        "outputId": "61b500b7-b7d6-424e-fb14-ad5897e8dfca"
      },
      "source": [
        "from google.colab import drive\n",
        "drive.mount('/content/drive')"
      ],
      "execution_count": 3,
      "outputs": [
        {
          "output_type": "stream",
          "text": [
            "Mounted at /content/drive\n"
          ],
          "name": "stdout"
        }
      ]
    },
    {
      "cell_type": "code",
      "metadata": {
        "id": "haDJhKJnHxJP",
        "colab": {
          "base_uri": "https://localhost:8080/",
          "height": 36
        },
        "outputId": "bd8481e9-f5c7-4d1d-81a0-f83c38eb5150"
      },
      "source": [
        "%pwd\n"
      ],
      "execution_count": 4,
      "outputs": [
        {
          "output_type": "execute_result",
          "data": {
            "application/vnd.google.colaboratory.intrinsic+json": {
              "type": "string"
            },
            "text/plain": [
              "'/content'"
            ]
          },
          "metadata": {
            "tags": []
          },
          "execution_count": 4
        }
      ]
    },
    {
      "cell_type": "code",
      "metadata": {
        "id": "6tR2K1srYe8Y",
        "colab": {
          "base_uri": "https://localhost:8080/"
        },
        "outputId": "71ea95b9-744b-4e05-9ff4-04be8e33e4b0"
      },
      "source": [
        "%ls "
      ],
      "execution_count": 6,
      "outputs": [
        {
          "output_type": "stream",
          "text": [
            "\u001b[0m\u001b[01;34mdrive\u001b[0m/  \u001b[01;34msample_data\u001b[0m/\n"
          ],
          "name": "stdout"
        }
      ]
    },
    {
      "cell_type": "code",
      "metadata": {
        "id": "3V4nMTXqZ26f",
        "colab": {
          "base_uri": "https://localhost:8080/"
        },
        "outputId": "dffae408-442c-464e-c6c6-ec4d7c7df008"
      },
      "source": [
        "%cd drive/MyDrive/"
      ],
      "execution_count": 7,
      "outputs": [
        {
          "output_type": "stream",
          "text": [
            "/content/drive/MyDrive\n"
          ],
          "name": "stdout"
        }
      ]
    },
    {
      "cell_type": "code",
      "metadata": {
        "id": "HnQCSjAHE6cq"
      },
      "source": [
        "import pandas as pd"
      ],
      "execution_count": 8,
      "outputs": []
    },
    {
      "cell_type": "code",
      "metadata": {
        "id": "GKFOtTxzaaKy"
      },
      "source": [
        "data = pd.read_csv(\"InputData.csv\")"
      ],
      "execution_count": 9,
      "outputs": []
    },
    {
      "cell_type": "code",
      "metadata": {
        "id": "jepnY7QNar5d",
        "colab": {
          "base_uri": "https://localhost:8080/",
          "height": 399
        },
        "outputId": "cc26abea-30d0-4b95-8e92-270fdef573ee"
      },
      "source": [
        "data"
      ],
      "execution_count": 10,
      "outputs": [
        {
          "output_type": "execute_result",
          "data": {
            "text/html": [
              "<div>\n",
              "<style scoped>\n",
              "    .dataframe tbody tr th:only-of-type {\n",
              "        vertical-align: middle;\n",
              "    }\n",
              "\n",
              "    .dataframe tbody tr th {\n",
              "        vertical-align: top;\n",
              "    }\n",
              "\n",
              "    .dataframe thead th {\n",
              "        text-align: right;\n",
              "    }\n",
              "</style>\n",
              "<table border=\"1\" class=\"dataframe\">\n",
              "  <thead>\n",
              "    <tr style=\"text-align: right;\">\n",
              "      <th></th>\n",
              "      <th>Unnamed: 0</th>\n",
              "      <th>Articles without stop words</th>\n",
              "      <th>Article with stop words</th>\n",
              "      <th>Summary</th>\n",
              "    </tr>\n",
              "  </thead>\n",
              "  <tbody>\n",
              "    <tr>\n",
              "      <th>0</th>\n",
              "      <td>0</td>\n",
              "      <td>budget set scene electiongordon brown seek put...</td>\n",
              "      <td>budget to set scene for electiongordon brown w...</td>\n",
              "      <td>&lt;START&gt; increase in the stamp duty threshold f...</td>\n",
              "    </tr>\n",
              "    <tr>\n",
              "      <th>1</th>\n",
              "      <td>1</td>\n",
              "      <td>army chiefs regiments decisionmilitary chiefs ...</td>\n",
              "      <td>army chiefs in regiments decisionmilitary chie...</td>\n",
              "      <td>&lt;START&gt; they are very much not for the good an...</td>\n",
              "    </tr>\n",
              "    <tr>\n",
              "      <th>2</th>\n",
              "      <td>2</td>\n",
              "      <td>howard denies split id cardsmichael howard den...</td>\n",
              "      <td>howard denies split over id cardsmichael howar...</td>\n",
              "      <td>&lt;START&gt; michael howard has denied his shadow c...</td>\n",
              "    </tr>\n",
              "    <tr>\n",
              "      <th>3</th>\n",
              "      <td>3</td>\n",
              "      <td>observers monitor uk electionministers invite ...</td>\n",
              "      <td>observers to monitor uk electionministers will...</td>\n",
              "      <td>&lt;START&gt; the report said individual registratio...</td>\n",
              "    </tr>\n",
              "    <tr>\n",
              "      <th>4</th>\n",
              "      <td>4</td>\n",
              "      <td>kilroy names election seat show host robert co...</td>\n",
              "      <td>kilroy names election seat show host robert is...</td>\n",
              "      <td>&lt;START&gt; ukip roger has said he is glad to see ...</td>\n",
              "    </tr>\n",
              "    <tr>\n",
              "      <th>...</th>\n",
              "      <td>...</td>\n",
              "      <td>...</td>\n",
              "      <td>...</td>\n",
              "      <td>...</td>\n",
              "    </tr>\n",
              "    <tr>\n",
              "      <th>4445</th>\n",
              "      <td>4445</td>\n",
              "      <td>india opens skies competitionindia allow domes...</td>\n",
              "      <td>india opens skies to competitionindia will all...</td>\n",
              "      <td>&lt;START&gt; india will allow domestic commercial a...</td>\n",
              "    </tr>\n",
              "    <tr>\n",
              "      <th>4446</th>\n",
              "      <td>4446</td>\n",
              "      <td>yukos bankruptcy us authorities abide us court...</td>\n",
              "      <td>yukos bankruptcy us authorities do not have to...</td>\n",
              "      <td>&lt;START&gt; yukos says a us court was entitled to ...</td>\n",
              "    </tr>\n",
              "    <tr>\n",
              "      <th>4447</th>\n",
              "      <td>4447</td>\n",
              "      <td>survey confirms property slowdowngovernment fi...</td>\n",
              "      <td>survey confirms property slowdowngovernment fi...</td>\n",
              "      <td>&lt;START&gt; house prices were higher on the year i...</td>\n",
              "    </tr>\n",
              "    <tr>\n",
              "      <th>4448</th>\n",
              "      <td>4448</td>\n",
              "      <td>high fuel prices hit ba profitsbritish airways...</td>\n",
              "      <td>high fuel prices hit ba profitsbritish airways...</td>\n",
              "      <td>&lt;START&gt; rod ba chief said the results were res...</td>\n",
              "    </tr>\n",
              "    <tr>\n",
              "      <th>4449</th>\n",
              "      <td>4449</td>\n",
              "      <td>us trade gap hits record gap us exports import...</td>\n",
              "      <td>us trade gap hits record in gap between us exp...</td>\n",
              "      <td>&lt;START&gt; the commerce department said the trade...</td>\n",
              "    </tr>\n",
              "  </tbody>\n",
              "</table>\n",
              "<p>4450 rows × 4 columns</p>\n",
              "</div>"
            ],
            "text/plain": [
              "      Unnamed: 0  ...                                            Summary\n",
              "0              0  ...  <START> increase in the stamp duty threshold f...\n",
              "1              1  ...  <START> they are very much not for the good an...\n",
              "2              2  ...  <START> michael howard has denied his shadow c...\n",
              "3              3  ...  <START> the report said individual registratio...\n",
              "4              4  ...  <START> ukip roger has said he is glad to see ...\n",
              "...          ...  ...                                                ...\n",
              "4445        4445  ...  <START> india will allow domestic commercial a...\n",
              "4446        4446  ...  <START> yukos says a us court was entitled to ...\n",
              "4447        4447  ...  <START> house prices were higher on the year i...\n",
              "4448        4448  ...  <START> rod ba chief said the results were res...\n",
              "4449        4449  ...  <START> the commerce department said the trade...\n",
              "\n",
              "[4450 rows x 4 columns]"
            ]
          },
          "metadata": {
            "tags": []
          },
          "execution_count": 10
        }
      ]
    },
    {
      "cell_type": "code",
      "metadata": {
        "id": "tNVcmXbBW-Y_"
      },
      "source": [
        "from tensorflow.keras import Sequential\r\n",
        "from tensorflow.keras.models import Model\r\n",
        "from tensorflow.keras.layers import Dense,LSTM,Bidirectional,Flatten,Dropout,BatchNormalization,Embedding,Input,TimeDistributed\r\n",
        "from sklearn.model_selection import train_test_split"
      ],
      "execution_count": 12,
      "outputs": []
    },
    {
      "cell_type": "code",
      "metadata": {
        "id": "1GonjiRyWzsk",
        "outputId": "7f5f8a35-ed0d-4901-b835-d4354643a11e",
        "colab": {
          "base_uri": "https://localhost:8080/"
        }
      },
      "source": [
        "X_train,X_val,Y_train,Y_val=train_test_split(data['Article with stop words'],data['Summary'],test_size=0.3,random_state=29)\r\n",
        "print(len(X_train),len(Y_train))\r\n",
        "print(len(X_val),len(Y_val))"
      ],
      "execution_count": 13,
      "outputs": [
        {
          "output_type": "stream",
          "text": [
            "3115 3115\n",
            "1335 1335\n"
          ],
          "name": "stdout"
        }
      ]
    },
    {
      "cell_type": "code",
      "metadata": {
        "id": "elmXbeJrXLYR"
      },
      "source": [
        "max_art_len=500\r\n",
        "max_sum_len=100"
      ],
      "execution_count": 14,
      "outputs": []
    },
    {
      "cell_type": "code",
      "metadata": {
        "id": "QNNwWq6AXYC4"
      },
      "source": [
        "from tensorflow.keras.preprocessing.text import Tokenizer\r\n",
        "from tensorflow.keras.preprocessing.sequence import pad_sequences"
      ],
      "execution_count": 15,
      "outputs": []
    }
  ]
}