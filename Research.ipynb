{
  "nbformat": 4,
  "nbformat_minor": 0,
  "metadata": {
    "kernelspec": {
      "display_name": "Python 3",
      "language": "python",
      "name": "python3"
    },
    "language_info": {
      "codemirror_mode": {
        "name": "ipython",
        "version": 3
      },
      "file_extension": ".py",
      "mimetype": "text/x-python",
      "name": "python",
      "nbconvert_exporter": "python",
      "pygments_lexer": "ipython3",
      "version": "3.6.7"
    },
    "colab": {
      "name": "Research.ipynb",
      "provenance": [],
      "include_colab_link": true
    }
  },
  "cells": [
    {
      "cell_type": "markdown",
      "metadata": {
        "id": "view-in-github",
        "colab_type": "text"
      },
      "source": [
        "<a href=\"https://colab.research.google.com/github/nishantgovil03/Research/blob/master/Research.ipynb\" target=\"_parent\"><img src=\"https://colab.research.google.com/assets/colab-badge.svg\" alt=\"Open In Colab\"/></a>"
      ]
    },
    {
      "cell_type": "code",
      "metadata": {
        "id": "cIDeo2MWXwi1",
        "colab": {
          "base_uri": "https://localhost:8080/"
        },
        "outputId": "61b500b7-b7d6-424e-fb14-ad5897e8dfca"
      },
      "source": [
        "from google.colab import drive\n",
        "drive.mount('/content/drive')"
      ],
      "execution_count": 3,
      "outputs": [
        {
          "output_type": "stream",
          "text": [
            "Mounted at /content/drive\n"
          ],
          "name": "stdout"
        }
      ]
    },
    {
      "cell_type": "code",
      "metadata": {
        "id": "haDJhKJnHxJP",
        "colab": {
          "base_uri": "https://localhost:8080/",
          "height": 36
        },
        "outputId": "bd8481e9-f5c7-4d1d-81a0-f83c38eb5150"
      },
      "source": [
        "%pwd\n"
      ],
      "execution_count": 4,
      "outputs": [
        {
          "output_type": "execute_result",
          "data": {
            "application/vnd.google.colaboratory.intrinsic+json": {
              "type": "string"
            },
            "text/plain": [
              "'/content'"
            ]
          },
          "metadata": {
            "tags": []
          },
          "execution_count": 4
        }
      ]
    },
    {
      "cell_type": "code",
      "metadata": {
        "id": "6tR2K1srYe8Y",
        "colab": {
          "base_uri": "https://localhost:8080/"
        },
        "outputId": "71ea95b9-744b-4e05-9ff4-04be8e33e4b0"
      },
      "source": [
        "%ls "
      ],
      "execution_count": 6,
      "outputs": [
        {
          "output_type": "stream",
          "text": [
            "\u001b[0m\u001b[01;34mdrive\u001b[0m/  \u001b[01;34msample_data\u001b[0m/\n"
          ],
          "name": "stdout"
        }
      ]
    },
    {
      "cell_type": "code",
      "metadata": {
        "id": "3V4nMTXqZ26f",
        "colab": {
          "base_uri": "https://localhost:8080/"
        },
        "outputId": "dffae408-442c-464e-c6c6-ec4d7c7df008"
      },
      "source": [
        "%cd drive/MyDrive/"
      ],
      "execution_count": 7,
      "outputs": [
        {
          "output_type": "stream",
          "text": [
            "/content/drive/MyDrive\n"
          ],
          "name": "stdout"
        }
      ]
    },
    {
      "cell_type": "code",
      "metadata": {
        "id": "HnQCSjAHE6cq"
      },
      "source": [
        "import pandas as pd"
      ],
      "execution_count": 8,
      "outputs": []
    },
    {
      "cell_type": "code",
      "metadata": {
        "id": "GKFOtTxzaaKy"
      },
      "source": [
        "data = pd.read_csv(\"InputData.csv\")"
      ],
      "execution_count": 9,
      "outputs": []
    },
    {
      "cell_type": "code",
      "metadata": {
        "id": "jepnY7QNar5d",
        "colab": {
          "base_uri": "https://localhost:8080/",
          "height": 399
        },
        "outputId": "cc26abea-30d0-4b95-8e92-270fdef573ee"
      },
      "source": [
        "data"
      ],
      "execution_count": 10,
      "outputs": [
        {
          "output_type": "execute_result",
          "data": {
            "text/html": [
              "<div>\n",
              "<style scoped>\n",
              "    .dataframe tbody tr th:only-of-type {\n",
              "        vertical-align: middle;\n",
              "    }\n",
              "\n",
              "    .dataframe tbody tr th {\n",
              "        vertical-align: top;\n",
              "    }\n",
              "\n",
              "    .dataframe thead th {\n",
              "        text-align: right;\n",
              "    }\n",
              "</style>\n",
              "<table border=\"1\" class=\"dataframe\">\n",
              "  <thead>\n",
              "    <tr style=\"text-align: right;\">\n",
              "      <th></th>\n",
              "      <th>Unnamed: 0</th>\n",
              "      <th>Articles without stop words</th>\n",
              "      <th>Article with stop words</th>\n",
              "      <th>Summary</th>\n",
              "    </tr>\n",
              "  </thead>\n",
              "  <tbody>\n",
              "    <tr>\n",
              "      <th>0</th>\n",
              "      <td>0</td>\n",
              "      <td>budget set scene electiongordon brown seek put...</td>\n",
              "      <td>budget to set scene for electiongordon brown w...</td>\n",
              "      <td>&lt;START&gt; increase in the stamp duty threshold f...</td>\n",
              "    </tr>\n",
              "    <tr>\n",
              "      <th>1</th>\n",
              "      <td>1</td>\n",
              "      <td>army chiefs regiments decisionmilitary chiefs ...</td>\n",
              "      <td>army chiefs in regiments decisionmilitary chie...</td>\n",
              "      <td>&lt;START&gt; they are very much not for the good an...</td>\n",
              "    </tr>\n",
              "    <tr>\n",
              "      <th>2</th>\n",
              "      <td>2</td>\n",
              "      <td>howard denies split id cardsmichael howard den...</td>\n",
              "      <td>howard denies split over id cardsmichael howar...</td>\n",
              "      <td>&lt;START&gt; michael howard has denied his shadow c...</td>\n",
              "    </tr>\n",
              "    <tr>\n",
              "      <th>3</th>\n",
              "      <td>3</td>\n",
              "      <td>observers monitor uk electionministers invite ...</td>\n",
              "      <td>observers to monitor uk electionministers will...</td>\n",
              "      <td>&lt;START&gt; the report said individual registratio...</td>\n",
              "    </tr>\n",
              "    <tr>\n",
              "      <th>4</th>\n",
              "      <td>4</td>\n",
              "      <td>kilroy names election seat show host robert co...</td>\n",
              "      <td>kilroy names election seat show host robert is...</td>\n",
              "      <td>&lt;START&gt; ukip roger has said he is glad to see ...</td>\n",
              "    </tr>\n",
              "    <tr>\n",
              "      <th>...</th>\n",
              "      <td>...</td>\n",
              "      <td>...</td>\n",
              "      <td>...</td>\n",
              "      <td>...</td>\n",
              "    </tr>\n",
              "    <tr>\n",
              "      <th>4445</th>\n",
              "      <td>4445</td>\n",
              "      <td>india opens skies competitionindia allow domes...</td>\n",
              "      <td>india opens skies to competitionindia will all...</td>\n",
              "      <td>&lt;START&gt; india will allow domestic commercial a...</td>\n",
              "    </tr>\n",
              "    <tr>\n",
              "      <th>4446</th>\n",
              "      <td>4446</td>\n",
              "      <td>yukos bankruptcy us authorities abide us court...</td>\n",
              "      <td>yukos bankruptcy us authorities do not have to...</td>\n",
              "      <td>&lt;START&gt; yukos says a us court was entitled to ...</td>\n",
              "    </tr>\n",
              "    <tr>\n",
              "      <th>4447</th>\n",
              "      <td>4447</td>\n",
              "      <td>survey confirms property slowdowngovernment fi...</td>\n",
              "      <td>survey confirms property slowdowngovernment fi...</td>\n",
              "      <td>&lt;START&gt; house prices were higher on the year i...</td>\n",
              "    </tr>\n",
              "    <tr>\n",
              "      <th>4448</th>\n",
              "      <td>4448</td>\n",
              "      <td>high fuel prices hit ba profitsbritish airways...</td>\n",
              "      <td>high fuel prices hit ba profitsbritish airways...</td>\n",
              "      <td>&lt;START&gt; rod ba chief said the results were res...</td>\n",
              "    </tr>\n",
              "    <tr>\n",
              "      <th>4449</th>\n",
              "      <td>4449</td>\n",
              "      <td>us trade gap hits record gap us exports import...</td>\n",
              "      <td>us trade gap hits record in gap between us exp...</td>\n",
              "      <td>&lt;START&gt; the commerce department said the trade...</td>\n",
              "    </tr>\n",
              "  </tbody>\n",
              "</table>\n",
              "<p>4450 rows × 4 columns</p>\n",
              "</div>"
            ],
            "text/plain": [
              "      Unnamed: 0  ...                                            Summary\n",
              "0              0  ...  <START> increase in the stamp duty threshold f...\n",
              "1              1  ...  <START> they are very much not for the good an...\n",
              "2              2  ...  <START> michael howard has denied his shadow c...\n",
              "3              3  ...  <START> the report said individual registratio...\n",
              "4              4  ...  <START> ukip roger has said he is glad to see ...\n",
              "...          ...  ...                                                ...\n",
              "4445        4445  ...  <START> india will allow domestic commercial a...\n",
              "4446        4446  ...  <START> yukos says a us court was entitled to ...\n",
              "4447        4447  ...  <START> house prices were higher on the year i...\n",
              "4448        4448  ...  <START> rod ba chief said the results were res...\n",
              "4449        4449  ...  <START> the commerce department said the trade...\n",
              "\n",
              "[4450 rows x 4 columns]"
            ]
          },
          "metadata": {
            "tags": []
          },
          "execution_count": 10
        }
      ]
    },
    {
      "cell_type": "code",
      "metadata": {
        "id": "tNVcmXbBW-Y_"
      },
      "source": [
        "from tensorflow.keras import Sequential\r\n",
        "from tensorflow.keras.models import Model\r\n",
        "from tensorflow.keras.layers import Dense,LSTM,Bidirectional,Flatten,Dropout,BatchNormalization,Embedding,Input,TimeDistributed\r\n",
        "from sklearn.model_selection import train_test_split"
      ],
      "execution_count": 12,
      "outputs": []
    },
    {
      "cell_type": "code",
      "metadata": {
        "colab": {
          "base_uri": "https://localhost:8080/"
        },
        "id": "1GonjiRyWzsk",
        "outputId": "7f5f8a35-ed0d-4901-b835-d4354643a11e"
      },
      "source": [
        "X_train,X_val,Y_train,Y_val=train_test_split(data['Article with stop words'],data['Summary'],test_size=0.3,random_state=29)\r\n",
        "print(len(X_train),len(Y_train))\r\n",
        "print(len(X_val),len(Y_val))"
      ],
      "execution_count": 13,
      "outputs": [
        {
          "output_type": "stream",
          "text": [
            "3115 3115\n",
            "1335 1335\n"
          ],
          "name": "stdout"
        }
      ]
    },
    {
      "cell_type": "code",
      "metadata": {
        "id": "elmXbeJrXLYR"
      },
      "source": [
        "max_art_len=500\r\n",
        "max_sum_len=100"
      ],
      "execution_count": 14,
      "outputs": []
    },
    {
      "cell_type": "code",
      "metadata": {
        "id": "QNNwWq6AXYC4"
      },
      "source": [
        "from tensorflow.keras.preprocessing.text import Tokenizer\r\n",
        "from tensorflow.keras.preprocessing.sequence import pad_sequences"
      ],
      "execution_count": 15,
      "outputs": []
    },
    {
      "cell_type": "code",
      "metadata": {
        "id": "SxjkVAWYXnrz"
      },
      "source": [
        "article_tokenizer=Tokenizer(oov_token='<UNK>')\r\n",
        "article_tokenizer.fit_on_texts(X_train)\r\n",
        "tokenized_X_train=article_tokenizer.texts_to_sequences(X_train)\r\n",
        "tokenized_X_val=article_tokenizer.texts_to_sequences(X_val)\r\n",
        "\r\n",
        "art_vocab_size=len(article_tokenizer.word_index)+1"
      ],
      "execution_count": 16,
      "outputs": []
    },
    {
      "cell_type": "code",
      "metadata": {
        "colab": {
          "base_uri": "https://localhost:8080/"
        },
        "id": "Cf_xWA08X9fI",
        "outputId": "4535d35c-d43e-4072-a38b-5ebea02723b4"
      },
      "source": [
        "art_vocab_size"
      ],
      "execution_count": 18,
      "outputs": [
        {
          "output_type": "execute_result",
          "data": {
            "text/plain": [
              "24225"
            ]
          },
          "metadata": {
            "tags": []
          },
          "execution_count": 18
        }
      ]
    },
    {
      "cell_type": "code",
      "metadata": {
        "id": "1x8rIjJHX44x"
      },
      "source": [
        "padded_X_train=pad_sequences(tokenized_X_train,maxlen=max_art_len,padding='post',truncating='post')\r\n",
        "padded_X_val=pad_sequences(tokenized_X_val,maxlen=max_art_len,padding='post',truncating='post')"
      ],
      "execution_count": 17,
      "outputs": []
    },
    {
      "cell_type": "code",
      "metadata": {
        "colab": {
          "base_uri": "https://localhost:8080/"
        },
        "id": "fUGJvzAJYKKG",
        "outputId": "97a64b2c-6382-4f8d-a5bb-8022a64af472"
      },
      "source": [
        "print(padded_X_train.shape,padded_X_val.shape)"
      ],
      "execution_count": 19,
      "outputs": [
        {
          "output_type": "stream",
          "text": [
            "(3115, 500) (1335, 500)\n"
          ],
          "name": "stdout"
        }
      ]
    },
    {
      "cell_type": "code",
      "metadata": {
        "id": "bLFLsisGYUv_"
      },
      "source": [
        "summary_tokenizer=Tokenizer(oov_token='<UNK>')\r\n",
        "summary_tokenizer.fit_on_texts(Y_train)\r\n",
        "tokenized_Y_train=summary_tokenizer.texts_to_sequences(Y_train)\r\n",
        "tokenized_Y_val=summary_tokenizer.texts_to_sequences(Y_val)\r\n",
        "\r\n",
        "sum_vocab_size=len(summary_tokenizer.word_index)+1"
      ],
      "execution_count": 20,
      "outputs": []
    },
    {
      "cell_type": "code",
      "metadata": {
        "colab": {
          "base_uri": "https://localhost:8080/"
        },
        "id": "pSI8sMLvYpMH",
        "outputId": "dcb867bb-b802-4f02-f94b-4b55d955f13b"
      },
      "source": [
        "sum_vocab_size"
      ],
      "execution_count": 21,
      "outputs": [
        {
          "output_type": "execute_result",
          "data": {
            "text/plain": [
              "15775"
            ]
          },
          "metadata": {
            "tags": []
          },
          "execution_count": 21
        }
      ]
    },
    {
      "cell_type": "code",
      "metadata": {
        "id": "dXyt71hHYg89"
      },
      "source": [
        "padded_Y_train=pad_sequences(tokenized_Y_train,maxlen=max_sum_len,padding='post',truncating='post')\r\n",
        "padded_Y_val=pad_sequences(tokenized_Y_val,maxlen=max_sum_len,padding='post',truncating='post')"
      ],
      "execution_count": 22,
      "outputs": []
    },
    {
      "cell_type": "code",
      "metadata": {
        "colab": {
          "base_uri": "https://localhost:8080/"
        },
        "id": "E_3tQHd1YxyQ",
        "outputId": "b49634b3-7aa7-4b8d-8179-59077ecd6da4"
      },
      "source": [
        "print(padded_Y_train.shape,padded_Y_val.shape)"
      ],
      "execution_count": 23,
      "outputs": [
        {
          "output_type": "stream",
          "text": [
            "(3115, 100) (1335, 100)\n"
          ],
          "name": "stdout"
        }
      ]
    },
    {
      "cell_type": "code",
      "metadata": {
        "id": "3tbovva5m-9r"
      },
      "source": [
        "embedding_size = 100\r\n",
        "n_units = 300"
      ],
      "execution_count": 27,
      "outputs": []
    },
    {
      "cell_type": "code",
      "metadata": {
        "id": "fo_SAK2DaXRZ",
        "outputId": "0de99a63-a693-4c23-c869-46ce4457ef8e",
        "colab": {
          "base_uri": "https://localhost:8080/"
        }
      },
      "source": [
        "encoder_inputs=Input(shape=(max_art_len,))\r\n",
        "encoder_emb=Embedding(art_vocab_size,embedding_size,trainable=True,name='Encoder_Embedding_layer')(encoder_inputs)\r\n",
        "encoder_lstm1=LSTM(n_units,return_sequences=True,return_state=True,name='Encoder_LSTM1')\r\n",
        "enclstm1_outputs,enclstm1_h,enclstm1_c=encoder_lstm1(encoder_emb)\r\n",
        "\r\n",
        "\r\n",
        "decoder_inputs=Input(shape=(None,))\r\n",
        "decoder_em=Embedding(sum_vocab_size,embedding_size,trainable=True,name='Decoder_Embedding_layer')\r\n",
        "decoder_emb=decoder_em(decoder_inputs)\r\n",
        "\r\n",
        "decoder_lstm1=LSTM(n_units,return_sequences=True,return_state=True,name='Decoder_LSTM1')\r\n",
        "declstm1_output,declstm1_h,declstm1_c=decoder_lstm1(decoder_emb,initial_state=[enclstm1_h,enclstm1_c])\r\n",
        "\r\n",
        "output_layer=TimeDistributed(Dense(sum_vocab_size,activation='softmax',name='softmax'))\r\n",
        "output=output_layer(declstm1_output)\r\n",
        "\r\n",
        "model=Model([encoder_inputs,decoder_inputs],output)\r\n",
        "\r\n",
        "model.summary()"
      ],
      "execution_count": 28,
      "outputs": [
        {
          "output_type": "stream",
          "text": [
            "Model: \"model\"\n",
            "__________________________________________________________________________________________________\n",
            "Layer (type)                    Output Shape         Param #     Connected to                     \n",
            "==================================================================================================\n",
            "input_2 (InputLayer)            [(None, 500)]        0                                            \n",
            "__________________________________________________________________________________________________\n",
            "input_3 (InputLayer)            [(None, None)]       0                                            \n",
            "__________________________________________________________________________________________________\n",
            "Encoder_Embedding_layer (Embedd (None, 500, 100)     2422500     input_2[0][0]                    \n",
            "__________________________________________________________________________________________________\n",
            "Decoder_Embedding_layer (Embedd (None, None, 100)    1577500     input_3[0][0]                    \n",
            "__________________________________________________________________________________________________\n",
            "Encoder_LSTM1 (LSTM)            [(None, 500, 300), ( 481200      Encoder_Embedding_layer[0][0]    \n",
            "__________________________________________________________________________________________________\n",
            "Decoder_LSTM1 (LSTM)            [(None, None, 300),  481200      Decoder_Embedding_layer[0][0]    \n",
            "                                                                 Encoder_LSTM1[0][1]              \n",
            "                                                                 Encoder_LSTM1[0][2]              \n",
            "__________________________________________________________________________________________________\n",
            "time_distributed (TimeDistribut (None, None, 15775)  4748275     Decoder_LSTM1[0][0]              \n",
            "==================================================================================================\n",
            "Total params: 9,710,675\n",
            "Trainable params: 9,710,675\n",
            "Non-trainable params: 0\n",
            "__________________________________________________________________________________________________\n"
          ],
          "name": "stdout"
        }
      ]
    },
    {
      "cell_type": "code",
      "metadata": {
        "id": "-_bHdiG4pAip"
      },
      "source": [
        "model.compile(optimizer='Adam',loss='sparse_categorical_crossentropy')"
      ],
      "execution_count": 29,
      "outputs": []
    },
    {
      "cell_type": "code",
      "metadata": {
        "id": "T-vJnmvspPzL",
        "outputId": "bc38bdbb-4eb2-4fbf-c732-708f78a07d6d",
        "colab": {
          "base_uri": "https://localhost:8080/"
        }
      },
      "source": [
        "history = model.fit([padded_X_train,padded_Y_train[:,:-1]],padded_Y_train[:,1:],\r\n",
        "          epochs=1,\r\n",
        "          validation_data=([padded_X_val,padded_Y_val[:,:-1]],padded_Y_val[:,1:]),\r\n",
        "          batch_size=64)"
      ],
      "execution_count": 31,
      "outputs": [
        {
          "output_type": "stream",
          "text": [
            "49/49 [==============================] - 394s 8s/step - loss: 6.6371 - val_loss: 6.6036\n"
          ],
          "name": "stdout"
        }
      ]
    },
    {
      "cell_type": "code",
      "metadata": {
        "id": "IutGZamot5kf",
        "outputId": "65f45814-af28-48dd-c967-55edc867577e",
        "colab": {
          "base_uri": "https://localhost:8080/"
        }
      },
      "source": [
        "history.history"
      ],
      "execution_count": 33,
      "outputs": [
        {
          "output_type": "execute_result",
          "data": {
            "text/plain": [
              "{'loss': [6.637099742889404], 'val_loss': [6.603635787963867]}"
            ]
          },
          "metadata": {
            "tags": []
          },
          "execution_count": 33
        }
      ]
    },
    {
      "cell_type": "code",
      "metadata": {
        "id": "Ht5oWFLFrqNb",
        "outputId": "8b4825f1-83ac-4cfd-a236-947e467edb8e",
        "colab": {
          "base_uri": "https://localhost:8080/",
          "height": 221
        }
      },
      "source": [
        "acc = history.history['acc']\r\n",
        "val_acc = history.history['val_acc']\r\n",
        "loss = history.history['loss']\r\n",
        "val_loss = history.history['val_loss']"
      ],
      "execution_count": 32,
      "outputs": [
        {
          "output_type": "error",
          "ename": "KeyError",
          "evalue": "ignored",
          "traceback": [
            "\u001b[0;31m---------------------------------------------------------------------------\u001b[0m",
            "\u001b[0;31mKeyError\u001b[0m                                  Traceback (most recent call last)",
            "\u001b[0;32m<ipython-input-32-0642ce207f8b>\u001b[0m in \u001b[0;36m<module>\u001b[0;34m()\u001b[0m\n\u001b[0;32m----> 1\u001b[0;31m \u001b[0macc\u001b[0m \u001b[0;34m=\u001b[0m \u001b[0mhistory\u001b[0m\u001b[0;34m.\u001b[0m\u001b[0mhistory\u001b[0m\u001b[0;34m[\u001b[0m\u001b[0;34m'acc'\u001b[0m\u001b[0;34m]\u001b[0m\u001b[0;34m\u001b[0m\u001b[0;34m\u001b[0m\u001b[0m\n\u001b[0m\u001b[1;32m      2\u001b[0m \u001b[0mval_acc\u001b[0m \u001b[0;34m=\u001b[0m \u001b[0mhistory\u001b[0m\u001b[0;34m.\u001b[0m\u001b[0mhistory\u001b[0m\u001b[0;34m[\u001b[0m\u001b[0;34m'val_acc'\u001b[0m\u001b[0;34m]\u001b[0m\u001b[0;34m\u001b[0m\u001b[0;34m\u001b[0m\u001b[0m\n\u001b[1;32m      3\u001b[0m \u001b[0mloss\u001b[0m \u001b[0;34m=\u001b[0m \u001b[0mhistory\u001b[0m\u001b[0;34m.\u001b[0m\u001b[0mhistory\u001b[0m\u001b[0;34m[\u001b[0m\u001b[0;34m'loss'\u001b[0m\u001b[0;34m]\u001b[0m\u001b[0;34m\u001b[0m\u001b[0;34m\u001b[0m\u001b[0m\n\u001b[1;32m      4\u001b[0m \u001b[0mval_loss\u001b[0m \u001b[0;34m=\u001b[0m \u001b[0mhistory\u001b[0m\u001b[0;34m.\u001b[0m\u001b[0mhistory\u001b[0m\u001b[0;34m[\u001b[0m\u001b[0;34m'val_loss'\u001b[0m\u001b[0;34m]\u001b[0m\u001b[0;34m\u001b[0m\u001b[0;34m\u001b[0m\u001b[0m\n",
            "\u001b[0;31mKeyError\u001b[0m: 'acc'"
          ]
        }
      ]
    }
  ]
}